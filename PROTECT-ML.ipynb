{
 "cells": [
  {
   "cell_type": "markdown",
   "metadata": {},
   "source": [
    "PROTECT 2023"
   ]
  },
  {
   "cell_type": "markdown",
   "metadata": {},
   "source": [
    "# PROYECTO PROTECT-VERSIÓN 1.0"
   ]
  },
  {
   "cell_type": "markdown",
   "metadata": {},
   "source": [
    "# 1. Importamos las librerias"
   ]
  },
  {
   "cell_type": "code",
   "execution_count": 2,
   "metadata": {
    "_cell_guid": "b1076dfc-b9ad-4769-8c92-a6c4dae69d19",
    "_uuid": "8f2839f25d086af736a60e9eeb907d3b93b6e0e5",
    "execution": {
     "iopub.execute_input": "2021-08-16T01:52:02.614763Z",
     "iopub.status.busy": "2021-08-16T01:52:02.61435Z",
     "iopub.status.idle": "2021-08-16T01:52:02.625658Z",
     "shell.execute_reply": "2021-08-16T01:52:02.624738Z",
     "shell.execute_reply.started": "2021-08-16T01:52:02.614728Z"
    }
   },
   "outputs": [],
   "source": [
    "import numpy as np # linear algebra\n",
    "import pandas as pd # data processing, CSV file I/O (e.g. pd.read_csv)\n",
    "import datetime as dt # time series analysis\n",
    "import matplotlib.pyplot as plt\n",
    "import seaborn as sns\n",
    "import warnings\n",
    "warnings.filterwarnings('ignore')"
   ]
  },
  {
   "cell_type": "markdown",
   "metadata": {},
   "source": [
    "# 2. Adquisición y carga de datos"
   ]
  },
  {
   "cell_type": "markdown",
   "metadata": {},
   "source": [
    "Descripción de las variables"
   ]
  },
  {
   "cell_type": "markdown",
   "metadata": {},
   "source": [
    "- year: año del acto. (numérico)\n",
    "- month: número del mes del acto. (numérico)\n",
    "- day: número de día del acto. (numérico)\n",
    "- countryName: Nombre del país. (objeto)\n",
    "- city: La ciudad donde se ejecutó el acto. (categórico)\n",
    "- latitude: Coordenada de la escena del crimen. (coordinación)\n",
    "- longitude:Coordenada de la escena del crimen. (coordinación)\n",
    "- attackType: El tipo de acto (bomba/explosión, asalto armado, ataque a instalaciones/infraestructuras, toma de rehenes (secuestro), secuestro, asesinato, desconocido, toma de rehenes (incidente de barricada), asalto sin armas) (categórico)\n",
    "- killed: Número de personas que murieron en el acto. (numérico)\n",
    "- wounded: Número de personas que resultaron heridas en el acto. (numérico)\n",
    "- target: El nombre del objetivo. (objeto)\n",
    "- summary: Una breve descripción del acto. (objeto)\n",
    "- group: El grupo terrorista que ejecutó el acto terrorista. (categórico)\n",
    "- targetType: Tipo de objetivo. (Aeropuertos y aviones, Militar, Gobierno (diplomático), Empresas, Policía, Gobierno (general), Ciudadanos y propiedades privadas, Institución educativa, Periodistas y medios de comunicación, Partido político violento, Turistas, Transporte, Servicios públicos, ONG, Desconocido, Figuras/Instituciones religiosas, Telecomunicaciones, Suministro de alimentos o agua, Marítimo, Terroristas/Milicia no estatal, Otro) (categórico)\n",
    "- weaponType: El tipo de arma utilizada en el acto. (Explosivos, Incendiarias, Armas de fuego, Desconocidas, Cuerpo a cuerpo, Químicas, Armas falsas, Equipo de sabotaje, Otras) (categórico)\n",
    "- motive: La motivación del acto. (objeto)\n",
    "- float64(4): latitud, longitud, muertos, heridos.\n",
    "- int64(3): año, mes, día.\n",
    "- objects(9): countryName, city, attackType, target, targetType, summary, group, weaponType, motive.\n"
   ]
  },
  {
   "cell_type": "code",
   "execution_count": 4,
   "metadata": {
    "execution": {
     "iopub.execute_input": "2021-08-16T01:52:02.671056Z",
     "iopub.status.busy": "2021-08-16T01:52:02.670399Z",
     "iopub.status.idle": "2021-08-16T01:52:06.444211Z",
     "shell.execute_reply": "2021-08-16T01:52:06.443161Z",
     "shell.execute_reply.started": "2021-08-16T01:52:02.671017Z"
    },
    "scrolled": false
   },
   "outputs": [
    {
     "data": {
      "text/html": [
       "<div>\n",
       "<style scoped>\n",
       "    .dataframe tbody tr th:only-of-type {\n",
       "        vertical-align: middle;\n",
       "    }\n",
       "\n",
       "    .dataframe tbody tr th {\n",
       "        vertical-align: top;\n",
       "    }\n",
       "\n",
       "    .dataframe thead th {\n",
       "        text-align: right;\n",
       "    }\n",
       "</style>\n",
       "<table border=\"1\" class=\"dataframe\">\n",
       "  <thead>\n",
       "    <tr style=\"text-align: right;\">\n",
       "      <th></th>\n",
       "      <th>iyear</th>\n",
       "      <th>imonth</th>\n",
       "      <th>iday</th>\n",
       "      <th>extended</th>\n",
       "      <th>country</th>\n",
       "      <th>provstate</th>\n",
       "      <th>region</th>\n",
       "      <th>country_txt</th>\n",
       "      <th>success</th>\n",
       "      <th>attacktype1_txt</th>\n",
       "      <th>targtype1_txt</th>\n",
       "      <th>gname</th>\n",
       "      <th>weaptype1_txt</th>\n",
       "    </tr>\n",
       "  </thead>\n",
       "  <tbody>\n",
       "    <tr>\n",
       "      <th>0</th>\n",
       "      <td>1970</td>\n",
       "      <td>7</td>\n",
       "      <td>2</td>\n",
       "      <td>0</td>\n",
       "      <td>58</td>\n",
       "      <td>NaN</td>\n",
       "      <td>2</td>\n",
       "      <td>Dominican Republic</td>\n",
       "      <td>1</td>\n",
       "      <td>Assassination</td>\n",
       "      <td>Private Citizens &amp; Property</td>\n",
       "      <td>MANO-D</td>\n",
       "      <td>Unknown</td>\n",
       "    </tr>\n",
       "    <tr>\n",
       "      <th>1</th>\n",
       "      <td>1970</td>\n",
       "      <td>0</td>\n",
       "      <td>0</td>\n",
       "      <td>0</td>\n",
       "      <td>130</td>\n",
       "      <td>Federal</td>\n",
       "      <td>1</td>\n",
       "      <td>Mexico</td>\n",
       "      <td>1</td>\n",
       "      <td>Hostage Taking (Kidnapping)</td>\n",
       "      <td>Government (Diplomatic)</td>\n",
       "      <td>23rd of September Communist League</td>\n",
       "      <td>Unknown</td>\n",
       "    </tr>\n",
       "    <tr>\n",
       "      <th>2</th>\n",
       "      <td>1970</td>\n",
       "      <td>1</td>\n",
       "      <td>0</td>\n",
       "      <td>0</td>\n",
       "      <td>160</td>\n",
       "      <td>Tarlac</td>\n",
       "      <td>5</td>\n",
       "      <td>Philippines</td>\n",
       "      <td>1</td>\n",
       "      <td>Assassination</td>\n",
       "      <td>Journalists &amp; Media</td>\n",
       "      <td>Unknown</td>\n",
       "      <td>Unknown</td>\n",
       "    </tr>\n",
       "    <tr>\n",
       "      <th>3</th>\n",
       "      <td>1970</td>\n",
       "      <td>1</td>\n",
       "      <td>0</td>\n",
       "      <td>0</td>\n",
       "      <td>78</td>\n",
       "      <td>Attica</td>\n",
       "      <td>8</td>\n",
       "      <td>Greece</td>\n",
       "      <td>1</td>\n",
       "      <td>Bombing/Explosion</td>\n",
       "      <td>Government (Diplomatic)</td>\n",
       "      <td>Unknown</td>\n",
       "      <td>Explosives</td>\n",
       "    </tr>\n",
       "    <tr>\n",
       "      <th>4</th>\n",
       "      <td>1970</td>\n",
       "      <td>1</td>\n",
       "      <td>0</td>\n",
       "      <td>0</td>\n",
       "      <td>101</td>\n",
       "      <td>Fukouka</td>\n",
       "      <td>4</td>\n",
       "      <td>Japan</td>\n",
       "      <td>1</td>\n",
       "      <td>Facility/Infrastructure Attack</td>\n",
       "      <td>Government (Diplomatic)</td>\n",
       "      <td>Unknown</td>\n",
       "      <td>Incendiary</td>\n",
       "    </tr>\n",
       "  </tbody>\n",
       "</table>\n",
       "</div>"
      ],
      "text/plain": [
       "   iyear  imonth  iday  extended  country provstate  region  \\\n",
       "0   1970       7     2         0       58       NaN       2   \n",
       "1   1970       0     0         0      130   Federal       1   \n",
       "2   1970       1     0         0      160    Tarlac       5   \n",
       "3   1970       1     0         0       78    Attica       8   \n",
       "4   1970       1     0         0      101   Fukouka       4   \n",
       "\n",
       "          country_txt  success                 attacktype1_txt  \\\n",
       "0  Dominican Republic        1                   Assassination   \n",
       "1              Mexico        1     Hostage Taking (Kidnapping)   \n",
       "2         Philippines        1                   Assassination   \n",
       "3              Greece        1               Bombing/Explosion   \n",
       "4               Japan        1  Facility/Infrastructure Attack   \n",
       "\n",
       "                 targtype1_txt                               gname  \\\n",
       "0  Private Citizens & Property                              MANO-D   \n",
       "1      Government (Diplomatic)  23rd of September Communist League   \n",
       "2          Journalists & Media                             Unknown   \n",
       "3      Government (Diplomatic)                             Unknown   \n",
       "4      Government (Diplomatic)                             Unknown   \n",
       "\n",
       "  weaptype1_txt  \n",
       "0       Unknown  \n",
       "1       Unknown  \n",
       "2       Unknown  \n",
       "3    Explosives  \n",
       "4    Incendiary  "
      ]
     },
     "execution_count": 4,
     "metadata": {},
     "output_type": "execute_result"
    }
   ],
   "source": [
    "file_name = 'globalterrorismdb_0718dist.csv'\n",
    "df = pd.read_csv(file_name, encoding = 'ISO-8859-1')\n",
    "\n",
    "df = df[['iyear', 'imonth', 'iday', 'extended', 'country', 'provstate', 'region','country_txt', 'success', 'attacktype1_txt', 'targtype1_txt', 'gname',\n",
    "         'weaptype1_txt']]\n",
    "df.head()"
   ]
  },
  {
   "cell_type": "markdown",
   "metadata": {},
   "source": [
    "Filtro -Perú y columnas"
   ]
  },
  {
   "cell_type": "code",
   "execution_count": 5,
   "metadata": {
    "execution": {
     "iopub.execute_input": "2021-08-16T01:52:06.446376Z",
     "iopub.status.busy": "2021-08-16T01:52:06.445778Z",
     "iopub.status.idle": "2021-08-16T01:52:06.494036Z",
     "shell.execute_reply": "2021-08-16T01:52:06.492998Z",
     "shell.execute_reply.started": "2021-08-16T01:52:06.446332Z"
    },
    "scrolled": true
   },
   "outputs": [
    {
     "data": {
      "text/html": [
       "<div>\n",
       "<style scoped>\n",
       "    .dataframe tbody tr th:only-of-type {\n",
       "        vertical-align: middle;\n",
       "    }\n",
       "\n",
       "    .dataframe tbody tr th {\n",
       "        vertical-align: top;\n",
       "    }\n",
       "\n",
       "    .dataframe thead th {\n",
       "        text-align: right;\n",
       "    }\n",
       "</style>\n",
       "<table border=\"1\" class=\"dataframe\">\n",
       "  <thead>\n",
       "    <tr style=\"text-align: right;\">\n",
       "      <th></th>\n",
       "      <th>iyear</th>\n",
       "      <th>imonth</th>\n",
       "      <th>iday</th>\n",
       "      <th>extended</th>\n",
       "      <th>country</th>\n",
       "      <th>provstate</th>\n",
       "      <th>region</th>\n",
       "      <th>country_txt</th>\n",
       "      <th>success</th>\n",
       "      <th>attacktype1_txt</th>\n",
       "      <th>targtype1_txt</th>\n",
       "      <th>gname</th>\n",
       "      <th>weaptype1_txt</th>\n",
       "    </tr>\n",
       "  </thead>\n",
       "  <tbody>\n",
       "    <tr>\n",
       "      <th>1941</th>\n",
       "      <td>1973</td>\n",
       "      <td>7</td>\n",
       "      <td>4</td>\n",
       "      <td>0</td>\n",
       "      <td>159</td>\n",
       "      <td>Lima</td>\n",
       "      <td>3</td>\n",
       "      <td>Peru</td>\n",
       "      <td>1</td>\n",
       "      <td>Bombing/Explosion</td>\n",
       "      <td>Government (Diplomatic)</td>\n",
       "      <td>Unknown</td>\n",
       "      <td>Explosives</td>\n",
       "    </tr>\n",
       "    <tr>\n",
       "      <th>1960</th>\n",
       "      <td>1973</td>\n",
       "      <td>7</td>\n",
       "      <td>22</td>\n",
       "      <td>0</td>\n",
       "      <td>159</td>\n",
       "      <td>Lima</td>\n",
       "      <td>3</td>\n",
       "      <td>Peru</td>\n",
       "      <td>1</td>\n",
       "      <td>Bombing/Explosion</td>\n",
       "      <td>Government (Diplomatic)</td>\n",
       "      <td>Unknown</td>\n",
       "      <td>Explosives</td>\n",
       "    </tr>\n",
       "    <tr>\n",
       "      <th>1961</th>\n",
       "      <td>1973</td>\n",
       "      <td>7</td>\n",
       "      <td>22</td>\n",
       "      <td>0</td>\n",
       "      <td>159</td>\n",
       "      <td>Lima</td>\n",
       "      <td>3</td>\n",
       "      <td>Peru</td>\n",
       "      <td>1</td>\n",
       "      <td>Bombing/Explosion</td>\n",
       "      <td>Government (Diplomatic)</td>\n",
       "      <td>Unknown</td>\n",
       "      <td>Explosives</td>\n",
       "    </tr>\n",
       "    <tr>\n",
       "      <th>2561</th>\n",
       "      <td>1974</td>\n",
       "      <td>9</td>\n",
       "      <td>19</td>\n",
       "      <td>0</td>\n",
       "      <td>159</td>\n",
       "      <td>Arequipa</td>\n",
       "      <td>3</td>\n",
       "      <td>Peru</td>\n",
       "      <td>1</td>\n",
       "      <td>Bombing/Explosion</td>\n",
       "      <td>Government (Diplomatic)</td>\n",
       "      <td>Condor</td>\n",
       "      <td>Explosives</td>\n",
       "    </tr>\n",
       "    <tr>\n",
       "      <th>2671</th>\n",
       "      <td>1974</td>\n",
       "      <td>11</td>\n",
       "      <td>21</td>\n",
       "      <td>0</td>\n",
       "      <td>159</td>\n",
       "      <td>Lima</td>\n",
       "      <td>3</td>\n",
       "      <td>Peru</td>\n",
       "      <td>1</td>\n",
       "      <td>Bombing/Explosion</td>\n",
       "      <td>Business</td>\n",
       "      <td>Revolutionary Vanguard</td>\n",
       "      <td>Explosives</td>\n",
       "    </tr>\n",
       "  </tbody>\n",
       "</table>\n",
       "</div>"
      ],
      "text/plain": [
       "      iyear  imonth  iday  extended  country provstate  region country_txt  \\\n",
       "1941   1973       7     4         0      159      Lima       3        Peru   \n",
       "1960   1973       7    22         0      159      Lima       3        Peru   \n",
       "1961   1973       7    22         0      159      Lima       3        Peru   \n",
       "2561   1974       9    19         0      159  Arequipa       3        Peru   \n",
       "2671   1974      11    21         0      159      Lima       3        Peru   \n",
       "\n",
       "      success    attacktype1_txt            targtype1_txt  \\\n",
       "1941        1  Bombing/Explosion  Government (Diplomatic)   \n",
       "1960        1  Bombing/Explosion  Government (Diplomatic)   \n",
       "1961        1  Bombing/Explosion  Government (Diplomatic)   \n",
       "2561        1  Bombing/Explosion  Government (Diplomatic)   \n",
       "2671        1  Bombing/Explosion                 Business   \n",
       "\n",
       "                       gname weaptype1_txt  \n",
       "1941                 Unknown    Explosives  \n",
       "1960                 Unknown    Explosives  \n",
       "1961                 Unknown    Explosives  \n",
       "2561                  Condor    Explosives  \n",
       "2671  Revolutionary Vanguard    Explosives  "
      ]
     },
     "execution_count": 5,
     "metadata": {},
     "output_type": "execute_result"
    }
   ],
   "source": [
    "start_year = 1970\n",
    "country = 'Peru'\n",
    "df = df.loc[(df['iyear'] >= start_year) & (df['country_txt'] == country)]\n",
    "df.head()"
   ]
  },
  {
   "cell_type": "code",
   "execution_count": 12,
   "metadata": {},
   "outputs": [
    {
     "data": {
      "text/plain": [
       "Index([], dtype='object')"
      ]
     },
     "execution_count": 12,
     "metadata": {},
     "output_type": "execute_result"
    }
   ],
   "source": [
    "df.columns[df.isnull().any()]"
   ]
  },
  {
   "cell_type": "code",
   "execution_count": 13,
   "metadata": {},
   "outputs": [
    {
     "data": {
      "text/plain": [
       "iyear              0\n",
       "imonth             0\n",
       "iday               0\n",
       "extended           0\n",
       "country            0\n",
       "provstate          0\n",
       "region             0\n",
       "country_txt        0\n",
       "success            0\n",
       "attacktype1_txt    0\n",
       "targtype1_txt      0\n",
       "gname              0\n",
       "weaptype1_txt      0\n",
       "dtype: int64"
      ]
     },
     "execution_count": 13,
     "metadata": {},
     "output_type": "execute_result"
    }
   ],
   "source": [
    "df.isnull().sum()"
   ]
  },
  {
   "cell_type": "code",
   "execution_count": 10,
   "metadata": {},
   "outputs": [],
   "source": [
    "df[\"provstate\"].fillna(\"Lima\", inplace = True) \n",
    "   "
   ]
  },
  {
   "cell_type": "code",
   "execution_count": 11,
   "metadata": {},
   "outputs": [
    {
     "data": {
      "text/plain": [
       "iyear              0\n",
       "imonth             0\n",
       "iday               0\n",
       "extended           0\n",
       "country            0\n",
       "provstate          0\n",
       "region             0\n",
       "country_txt        0\n",
       "success            0\n",
       "attacktype1_txt    0\n",
       "targtype1_txt      0\n",
       "gname              0\n",
       "weaptype1_txt      0\n",
       "dtype: int64"
      ]
     },
     "execution_count": 11,
     "metadata": {},
     "output_type": "execute_result"
    }
   ],
   "source": [
    "df.isnull().sum()"
   ]
  },
  {
   "cell_type": "markdown",
   "metadata": {},
   "source": [
    "# 3. Análisis exploratorio"
   ]
  },
  {
   "cell_type": "code",
   "execution_count": 14,
   "metadata": {},
   "outputs": [
    {
     "data": {
      "text/html": [
       "<div>\n",
       "<style scoped>\n",
       "    .dataframe tbody tr th:only-of-type {\n",
       "        vertical-align: middle;\n",
       "    }\n",
       "\n",
       "    .dataframe tbody tr th {\n",
       "        vertical-align: top;\n",
       "    }\n",
       "\n",
       "    .dataframe thead th {\n",
       "        text-align: right;\n",
       "    }\n",
       "</style>\n",
       "<table border=\"1\" class=\"dataframe\">\n",
       "  <thead>\n",
       "    <tr style=\"text-align: right;\">\n",
       "      <th></th>\n",
       "      <th>iyear</th>\n",
       "      <th>imonth</th>\n",
       "      <th>iday</th>\n",
       "      <th>extended</th>\n",
       "      <th>country</th>\n",
       "      <th>region</th>\n",
       "      <th>success</th>\n",
       "    </tr>\n",
       "  </thead>\n",
       "  <tbody>\n",
       "    <tr>\n",
       "      <th>count</th>\n",
       "      <td>6096.000000</td>\n",
       "      <td>6096.000000</td>\n",
       "      <td>6096.000000</td>\n",
       "      <td>6096.000000</td>\n",
       "      <td>6096.0</td>\n",
       "      <td>6096.0</td>\n",
       "      <td>6096.000000</td>\n",
       "    </tr>\n",
       "    <tr>\n",
       "      <th>mean</th>\n",
       "      <td>1987.489337</td>\n",
       "      <td>6.441437</td>\n",
       "      <td>15.645177</td>\n",
       "      <td>0.008694</td>\n",
       "      <td>159.0</td>\n",
       "      <td>3.0</td>\n",
       "      <td>0.944062</td>\n",
       "    </tr>\n",
       "    <tr>\n",
       "      <th>std</th>\n",
       "      <td>4.504656</td>\n",
       "      <td>3.278665</td>\n",
       "      <td>8.788160</td>\n",
       "      <td>0.092844</td>\n",
       "      <td>0.0</td>\n",
       "      <td>0.0</td>\n",
       "      <td>0.229821</td>\n",
       "    </tr>\n",
       "    <tr>\n",
       "      <th>min</th>\n",
       "      <td>1973.000000</td>\n",
       "      <td>1.000000</td>\n",
       "      <td>0.000000</td>\n",
       "      <td>0.000000</td>\n",
       "      <td>159.0</td>\n",
       "      <td>3.0</td>\n",
       "      <td>0.000000</td>\n",
       "    </tr>\n",
       "    <tr>\n",
       "      <th>25%</th>\n",
       "      <td>1984.000000</td>\n",
       "      <td>4.000000</td>\n",
       "      <td>8.000000</td>\n",
       "      <td>0.000000</td>\n",
       "      <td>159.0</td>\n",
       "      <td>3.0</td>\n",
       "      <td>1.000000</td>\n",
       "    </tr>\n",
       "    <tr>\n",
       "      <th>50%</th>\n",
       "      <td>1987.000000</td>\n",
       "      <td>7.000000</td>\n",
       "      <td>16.000000</td>\n",
       "      <td>0.000000</td>\n",
       "      <td>159.0</td>\n",
       "      <td>3.0</td>\n",
       "      <td>1.000000</td>\n",
       "    </tr>\n",
       "    <tr>\n",
       "      <th>75%</th>\n",
       "      <td>1990.000000</td>\n",
       "      <td>9.000000</td>\n",
       "      <td>23.000000</td>\n",
       "      <td>0.000000</td>\n",
       "      <td>159.0</td>\n",
       "      <td>3.0</td>\n",
       "      <td>1.000000</td>\n",
       "    </tr>\n",
       "    <tr>\n",
       "      <th>max</th>\n",
       "      <td>2017.000000</td>\n",
       "      <td>12.000000</td>\n",
       "      <td>31.000000</td>\n",
       "      <td>1.000000</td>\n",
       "      <td>159.0</td>\n",
       "      <td>3.0</td>\n",
       "      <td>1.000000</td>\n",
       "    </tr>\n",
       "  </tbody>\n",
       "</table>\n",
       "</div>"
      ],
      "text/plain": [
       "             iyear       imonth         iday     extended  country  region  \\\n",
       "count  6096.000000  6096.000000  6096.000000  6096.000000   6096.0  6096.0   \n",
       "mean   1987.489337     6.441437    15.645177     0.008694    159.0     3.0   \n",
       "std       4.504656     3.278665     8.788160     0.092844      0.0     0.0   \n",
       "min    1973.000000     1.000000     0.000000     0.000000    159.0     3.0   \n",
       "25%    1984.000000     4.000000     8.000000     0.000000    159.0     3.0   \n",
       "50%    1987.000000     7.000000    16.000000     0.000000    159.0     3.0   \n",
       "75%    1990.000000     9.000000    23.000000     0.000000    159.0     3.0   \n",
       "max    2017.000000    12.000000    31.000000     1.000000    159.0     3.0   \n",
       "\n",
       "           success  \n",
       "count  6096.000000  \n",
       "mean      0.944062  \n",
       "std       0.229821  \n",
       "min       0.000000  \n",
       "25%       1.000000  \n",
       "50%       1.000000  \n",
       "75%       1.000000  \n",
       "max       1.000000  "
      ]
     },
     "execution_count": 14,
     "metadata": {},
     "output_type": "execute_result"
    }
   ],
   "source": [
    "df.describe()"
   ]
  },
  {
   "cell_type": "code",
   "execution_count": 15,
   "metadata": {},
   "outputs": [
    {
     "data": {
      "text/plain": [
       "Index(['iyear', 'imonth', 'iday', 'extended', 'country', 'provstate', 'region',\n",
       "       'country_txt', 'success', 'attacktype1_txt', 'targtype1_txt', 'gname',\n",
       "       'weaptype1_txt'],\n",
       "      dtype='object')"
      ]
     },
     "execution_count": 15,
     "metadata": {},
     "output_type": "execute_result"
    }
   ],
   "source": [
    "df.columns"
   ]
  },
  {
   "cell_type": "code",
   "execution_count": 16,
   "metadata": {},
   "outputs": [
    {
     "name": "stdout",
     "output_type": "stream",
     "text": [
      "<class 'pandas.core.frame.DataFrame'>\n",
      "Int64Index: 6096 entries, 1941 to 178638\n",
      "Data columns (total 13 columns):\n",
      " #   Column           Non-Null Count  Dtype \n",
      "---  ------           --------------  ----- \n",
      " 0   iyear            6096 non-null   int64 \n",
      " 1   imonth           6096 non-null   int64 \n",
      " 2   iday             6096 non-null   int64 \n",
      " 3   extended         6096 non-null   int64 \n",
      " 4   country          6096 non-null   int64 \n",
      " 5   provstate        6096 non-null   object\n",
      " 6   region           6096 non-null   int64 \n",
      " 7   country_txt      6096 non-null   object\n",
      " 8   success          6096 non-null   int64 \n",
      " 9   attacktype1_txt  6096 non-null   object\n",
      " 10  targtype1_txt    6096 non-null   object\n",
      " 11  gname            6096 non-null   object\n",
      " 12  weaptype1_txt    6096 non-null   object\n",
      "dtypes: int64(7), object(6)\n",
      "memory usage: 666.8+ KB\n"
     ]
    }
   ],
   "source": [
    "df.info()"
   ]
  },
  {
   "cell_type": "markdown",
   "metadata": {},
   "source": [
    "Vizualización"
   ]
  },
  {
   "cell_type": "code",
   "execution_count": 17,
   "metadata": {
    "scrolled": false
   },
   "outputs": [
    {
     "data": {
      "image/png": "[encoded data removed]",
      "text/plain": [
       "<Figure size 1080x432 with 1 Axes>"
      ]
     },
     "metadata": {},
     "output_type": "display_data"
    }
   ],
   "source": [
    "plt.subplots(figsize=(15,6))\n",
    "sns.countplot('attacktype1_txt',data=df, palette='inferno',order=df['attacktype1_txt'].value_counts().index)\n",
    "plt.xticks(rotation=90)\n",
    "plt.title('Métodos de ataques terroristas')\n",
    "plt.show()\n"
   ]
  },
  {
   "cell_type": "code",
   "execution_count": 18,
   "metadata": {
    "scrolled": true
   },
   "outputs": [
    {
     "data": {
      "image/png": "[encoded data removed]",
      "text/plain": [
       "<Figure size 1080x432 with 1 Axes>"
      ]
     },
     "metadata": {},
     "output_type": "display_data"
    }
   ],
   "source": [
    "plt.subplots(figsize=(15,6))\n",
    "sns.countplot(df['targtype1_txt'], palette='inferno', order=df['targtype1_txt'].value_counts().index)\n",
    "plt.xticks(rotation=90)\n",
    "plt.title('Objetivos favoritos')\n",
    "plt.show()"
   ]
  },
  {
   "cell_type": "code",
   "execution_count": 19,
   "metadata": {},
   "outputs": [
    {
     "data": {
      "image/png": "[encoded data removed]",
      "text/plain": [
       "<Figure size 1080x432 with 1 Axes>"
      ]
     },
     "metadata": {},
     "output_type": "display_data"
    }
   ],
   "source": [
    "plt.subplots(figsize=(15,6))\n",
    "sns.countplot(df['weaptype1_txt'],color='blue',order=df['weaptype1_txt'].value_counts().index)\n",
    "plt.xticks(rotation=90)\n",
    "plt.title('Tipo de arma utilizado por los terroristas')\n",
    "plt.show()"
   ]
  },
  {
   "cell_type": "code",
   "execution_count": 20,
   "metadata": {
    "scrolled": false
   },
   "outputs": [
    {
     "data": {
      "image/png": "[encoded data removed]",
      "text/plain": [
       "<Figure size 1080x432 with 1 Axes>"
      ]
     },
     "metadata": {},
     "output_type": "display_data"
    }
   ],
   "source": [
    "terror_group=df['gname'].value_counts()\n",
    "plt.subplots(figsize=(15,6))\n",
    "sns.barplot(terror_group[0:20].values, terror_group[0:20].index)\n",
    "plt.xticks(rotation=90)\n",
    "plt.title('Grupos terroristas con mayor cantidad de ataques')\n",
    "plt.show()"
   ]
  },
  {
   "cell_type": "code",
   "execution_count": 21,
   "metadata": {
    "scrolled": true
   },
   "outputs": [
    {
     "data": {
      "image/png": "[encoded data removed]",
      "text/plain": [
       "<Figure size 1080x432 with 1 Axes>"
      ]
     },
     "metadata": {},
     "output_type": "display_data"
    }
   ],
   "source": [
    "plt.subplots(figsize=(15,6))\n",
    "sns.countplot(df['provstate'],color='blue',order=df['provstate'].value_counts().index)\n",
    "plt.xticks(rotation=90)\n",
    "plt.title('Estados de México que han sido atacados por grupos terroristas')\n",
    "plt.show()"
   ]
  },
  {
   "cell_type": "code",
   "execution_count": 22,
   "metadata": {
    "scrolled": false
   },
   "outputs": [
    {
     "data": {
      "image/png": "[encoded data removed]",
      "text/plain": [
       "<Figure size 1080x432 with 1 Axes>"
      ]
     },
     "metadata": {},
     "output_type": "display_data"
    }
   ],
   "source": [
    "plt.subplots(figsize=(15,6))\n",
    "sns.countplot(df['imonth'],color='blue',order=df['imonth'].value_counts().index)\n",
    "plt.xticks(rotation=90)\n",
    "plt.title('Meses que se realizaron los ataques ')\n",
    "plt.show()"
   ]
  },
  {
   "cell_type": "code",
   "execution_count": 23,
   "metadata": {},
   "outputs": [
    {
     "data": {
      "image/png": "[encoded data removed]",
      "text/plain": [
       "<Figure size 1080x432 with 1 Axes>"
      ]
     },
     "metadata": {},
     "output_type": "display_data"
    }
   ],
   "source": [
    "plt.subplots(figsize=(15,6))\n",
    "sns.countplot(df['iyear'],color='blue',order=df['iyear'].value_counts().index)\n",
    "plt.xticks(rotation=90)\n",
    "plt.title('Años que se realizaron los ataques ')\n",
    "plt.show()"
   ]
  },
  {
   "cell_type": "markdown",
   "metadata": {},
   "source": [
    "# 4. Feature Engineering\n"
   ]
  },
  {
   "cell_type": "code",
   "execution_count": 88,
   "metadata": {
    "execution": {
     "iopub.execute_input": "2021-08-16T01:52:06.496029Z",
     "iopub.status.busy": "2021-08-16T01:52:06.495708Z",
     "iopub.status.idle": "2021-08-16T01:52:06.506088Z",
     "shell.execute_reply": "2021-08-16T01:52:06.504816Z",
     "shell.execute_reply.started": "2021-08-16T01:52:06.495997Z"
    }
   },
   "outputs": [
    {
     "data": {
      "text/plain": [
       "Shining Path (SL)                                  4541\n",
       "Unknown                                             898\n",
       "Tupac Amaru Revolutionary Movement (MRTA)           552\n",
       "Rodrigo Franco Command                               15\n",
       "Narco-Terrorists                                     14\n",
       "Terrorists                                           11\n",
       "Movement of the Revolutionary Left (MIR) (Peru)       7\n",
       "Death Squad                                           6\n",
       "People's Revolutionary Command (CRP)                  5\n",
       "Patriotic Liberation Front                            5\n",
       "Maoists                                               4\n",
       "Revolutionary Armed Forces of Colombia (FARC)         4\n",
       "Guerrillas                                            3\n",
       "National Liberation Army (Peru)                       2\n",
       "Revolutionary Vanguard                                2\n",
       "Name: gname, dtype: int64"
      ]
     },
     "execution_count": 88,
     "metadata": {},
     "output_type": "execute_result"
    }
   ],
   "source": [
    "count = df['gname'].value_counts()\n",
    "count.head(15)"
   ]
  },
  {
   "cell_type": "code",
   "execution_count": 109,
   "metadata": {
    "execution": {
     "iopub.execute_input": "2021-08-16T01:52:06.507943Z",
     "iopub.status.busy": "2021-08-16T01:52:06.507655Z",
     "iopub.status.idle": "2021-08-16T01:52:06.517028Z",
     "shell.execute_reply": "2021-08-16T01:52:06.516032Z",
     "shell.execute_reply.started": "2021-08-16T01:52:06.507915Z"
    },
    "scrolled": true
   },
   "outputs": [
    {
     "data": {
      "text/plain": [
       "['Shining Path (SL)',\n",
       " 'Unknown',\n",
       " 'Tupac Amaru Revolutionary Movement (MRTA)',\n",
       " 'Rodrigo Franco Command',\n",
       " 'Narco-Terrorists',\n",
       " 'Terrorists',\n",
       " 'Movement of the Revolutionary Left (MIR) (Peru)',\n",
       " 'Death Squad']"
      ]
     },
     "execution_count": 109,
     "metadata": {},
     "output_type": "execute_result"
    }
   ],
   "source": [
    "# Determines the number of groups to analyze\n",
    "num_names = 7\n",
    "names = count.keys()[0:num_names+1]\n",
    "names = list(names)\n",
    "names"
   ]
  },
  {
   "cell_type": "code",
   "execution_count": 110,
   "metadata": {},
   "outputs": [
    {
     "data": {
      "text/plain": [
       "['Shining Path (SL)',\n",
       " 'Unknown',\n",
       " 'Tupac Amaru Revolutionary Movement (MRTA)',\n",
       " 'Rodrigo Franco Command',\n",
       " 'Narco-Terrorists',\n",
       " 'Terrorists',\n",
       " 'Movement of the Revolutionary Left (MIR) (Peru)',\n",
       " 'Death Squad']"
      ]
     },
     "execution_count": 110,
     "metadata": {},
     "output_type": "execute_result"
    }
   ],
   "source": [
    "names\n"
   ]
  },
  {
   "cell_type": "code",
   "execution_count": 111,
   "metadata": {
    "execution": {
     "iopub.execute_input": "2021-08-16T01:52:06.518747Z",
     "iopub.status.busy": "2021-08-16T01:52:06.518449Z",
     "iopub.status.idle": "2021-08-16T01:52:06.532119Z",
     "shell.execute_reply": "2021-08-16T01:52:06.531294Z",
     "shell.execute_reply.started": "2021-08-16T01:52:06.518721Z"
    }
   },
   "outputs": [],
   "source": [
    "# Dummies convert text data into numeric variables that a model can use\n",
    "countries = pd.get_dummies(df['country_txt'])\n",
    "countries.reset_index(drop = True, inplace = True)\n",
    "\n",
    "states = pd.get_dummies(df['provstate'])\n",
    "states.reset_index(drop = True, inplace = True)\n",
    "\n",
    "attacks = pd.get_dummies(df['attacktype1_txt'])\n",
    "attacks.reset_index(drop = True, inplace = True)\n",
    "\n",
    "targets = pd.get_dummies(df['targtype1_txt'])\n",
    "targets.reset_index(drop = True, inplace = True)\n",
    "\n",
    "weapons = pd.get_dummies(df['weaptype1_txt'])\n",
    "weapons.reset_index(drop = True, inplace = True)"
   ]
  },
  {
   "cell_type": "code",
   "execution_count": 112,
   "metadata": {},
   "outputs": [
    {
     "data": {
      "text/html": [
       "<div>\n",
       "<style scoped>\n",
       "    .dataframe tbody tr th:only-of-type {\n",
       "        vertical-align: middle;\n",
       "    }\n",
       "\n",
       "    .dataframe tbody tr th {\n",
       "        vertical-align: top;\n",
       "    }\n",
       "\n",
       "    .dataframe thead th {\n",
       "        text-align: right;\n",
       "    }\n",
       "</style>\n",
       "<table border=\"1\" class=\"dataframe\">\n",
       "  <thead>\n",
       "    <tr style=\"text-align: right;\">\n",
       "      <th></th>\n",
       "      <th>Chemical</th>\n",
       "      <th>Explosives</th>\n",
       "      <th>Firearms</th>\n",
       "      <th>Incendiary</th>\n",
       "      <th>Melee</th>\n",
       "      <th>Other</th>\n",
       "      <th>Sabotage Equipment</th>\n",
       "      <th>Unknown</th>\n",
       "    </tr>\n",
       "  </thead>\n",
       "  <tbody>\n",
       "    <tr>\n",
       "      <th>0</th>\n",
       "      <td>0</td>\n",
       "      <td>1</td>\n",
       "      <td>0</td>\n",
       "      <td>0</td>\n",
       "      <td>0</td>\n",
       "      <td>0</td>\n",
       "      <td>0</td>\n",
       "      <td>0</td>\n",
       "    </tr>\n",
       "    <tr>\n",
       "      <th>1</th>\n",
       "      <td>0</td>\n",
       "      <td>1</td>\n",
       "      <td>0</td>\n",
       "      <td>0</td>\n",
       "      <td>0</td>\n",
       "      <td>0</td>\n",
       "      <td>0</td>\n",
       "      <td>0</td>\n",
       "    </tr>\n",
       "    <tr>\n",
       "      <th>2</th>\n",
       "      <td>0</td>\n",
       "      <td>1</td>\n",
       "      <td>0</td>\n",
       "      <td>0</td>\n",
       "      <td>0</td>\n",
       "      <td>0</td>\n",
       "      <td>0</td>\n",
       "      <td>0</td>\n",
       "    </tr>\n",
       "    <tr>\n",
       "      <th>3</th>\n",
       "      <td>0</td>\n",
       "      <td>1</td>\n",
       "      <td>0</td>\n",
       "      <td>0</td>\n",
       "      <td>0</td>\n",
       "      <td>0</td>\n",
       "      <td>0</td>\n",
       "      <td>0</td>\n",
       "    </tr>\n",
       "    <tr>\n",
       "      <th>4</th>\n",
       "      <td>0</td>\n",
       "      <td>1</td>\n",
       "      <td>0</td>\n",
       "      <td>0</td>\n",
       "      <td>0</td>\n",
       "      <td>0</td>\n",
       "      <td>0</td>\n",
       "      <td>0</td>\n",
       "    </tr>\n",
       "    <tr>\n",
       "      <th>...</th>\n",
       "      <td>...</td>\n",
       "      <td>...</td>\n",
       "      <td>...</td>\n",
       "      <td>...</td>\n",
       "      <td>...</td>\n",
       "      <td>...</td>\n",
       "      <td>...</td>\n",
       "      <td>...</td>\n",
       "    </tr>\n",
       "    <tr>\n",
       "      <th>6091</th>\n",
       "      <td>0</td>\n",
       "      <td>0</td>\n",
       "      <td>1</td>\n",
       "      <td>0</td>\n",
       "      <td>0</td>\n",
       "      <td>0</td>\n",
       "      <td>0</td>\n",
       "      <td>0</td>\n",
       "    </tr>\n",
       "    <tr>\n",
       "      <th>6092</th>\n",
       "      <td>0</td>\n",
       "      <td>0</td>\n",
       "      <td>1</td>\n",
       "      <td>0</td>\n",
       "      <td>0</td>\n",
       "      <td>0</td>\n",
       "      <td>0</td>\n",
       "      <td>0</td>\n",
       "    </tr>\n",
       "    <tr>\n",
       "      <th>6093</th>\n",
       "      <td>0</td>\n",
       "      <td>0</td>\n",
       "      <td>0</td>\n",
       "      <td>0</td>\n",
       "      <td>0</td>\n",
       "      <td>0</td>\n",
       "      <td>0</td>\n",
       "      <td>1</td>\n",
       "    </tr>\n",
       "    <tr>\n",
       "      <th>6094</th>\n",
       "      <td>0</td>\n",
       "      <td>1</td>\n",
       "      <td>0</td>\n",
       "      <td>0</td>\n",
       "      <td>0</td>\n",
       "      <td>0</td>\n",
       "      <td>0</td>\n",
       "      <td>0</td>\n",
       "    </tr>\n",
       "    <tr>\n",
       "      <th>6095</th>\n",
       "      <td>0</td>\n",
       "      <td>0</td>\n",
       "      <td>0</td>\n",
       "      <td>0</td>\n",
       "      <td>0</td>\n",
       "      <td>0</td>\n",
       "      <td>0</td>\n",
       "      <td>1</td>\n",
       "    </tr>\n",
       "  </tbody>\n",
       "</table>\n",
       "<p>6096 rows × 8 columns</p>\n",
       "</div>"
      ],
      "text/plain": [
       "      Chemical  Explosives  Firearms  Incendiary  Melee  Other  \\\n",
       "0            0           1         0           0      0      0   \n",
       "1            0           1         0           0      0      0   \n",
       "2            0           1         0           0      0      0   \n",
       "3            0           1         0           0      0      0   \n",
       "4            0           1         0           0      0      0   \n",
       "...        ...         ...       ...         ...    ...    ...   \n",
       "6091         0           0         1           0      0      0   \n",
       "6092         0           0         1           0      0      0   \n",
       "6093         0           0         0           0      0      0   \n",
       "6094         0           1         0           0      0      0   \n",
       "6095         0           0         0           0      0      0   \n",
       "\n",
       "      Sabotage Equipment  Unknown  \n",
       "0                      0        0  \n",
       "1                      0        0  \n",
       "2                      0        0  \n",
       "3                      0        0  \n",
       "4                      0        0  \n",
       "...                  ...      ...  \n",
       "6091                   0        0  \n",
       "6092                   0        0  \n",
       "6093                   0        1  \n",
       "6094                   0        0  \n",
       "6095                   0        1  \n",
       "\n",
       "[6096 rows x 8 columns]"
      ]
     },
     "execution_count": 112,
     "metadata": {},
     "output_type": "execute_result"
    }
   ],
   "source": [
    "weapons"
   ]
  },
  {
   "cell_type": "code",
   "execution_count": 113,
   "metadata": {
    "execution": {
     "iopub.execute_input": "2021-08-16T01:52:06.5333Z",
     "iopub.status.busy": "2021-08-16T01:52:06.533037Z",
     "iopub.status.idle": "2021-08-16T01:52:06.543926Z",
     "shell.execute_reply": "2021-08-16T01:52:06.542951Z",
     "shell.execute_reply.started": "2021-08-16T01:52:06.533275Z"
    }
   },
   "outputs": [],
   "source": [
    "# Combines all dummy variables into one data frame\n",
    "df.reset_index(drop=True, inplace=True)\n",
    "df_dummies = pd.concat([df, countries, states, attacks, targets, weapons], axis = 1)"
   ]
  },
  {
   "cell_type": "code",
   "execution_count": 114,
   "metadata": {
    "execution": {
     "iopub.execute_input": "2021-08-16T01:52:06.545287Z",
     "iopub.status.busy": "2021-08-16T01:52:06.544927Z",
     "iopub.status.idle": "2021-08-16T01:52:06.572518Z",
     "shell.execute_reply": "2021-08-16T01:52:06.571499Z",
     "shell.execute_reply.started": "2021-08-16T01:52:06.545261Z"
    }
   },
   "outputs": [
    {
     "data": {
      "text/html": [
       "<div>\n",
       "<style scoped>\n",
       "    .dataframe tbody tr th:only-of-type {\n",
       "        vertical-align: middle;\n",
       "    }\n",
       "\n",
       "    .dataframe tbody tr th {\n",
       "        vertical-align: top;\n",
       "    }\n",
       "\n",
       "    .dataframe thead th {\n",
       "        text-align: right;\n",
       "    }\n",
       "</style>\n",
       "<table border=\"1\" class=\"dataframe\">\n",
       "  <thead>\n",
       "    <tr style=\"text-align: right;\">\n",
       "      <th></th>\n",
       "      <th>iyear</th>\n",
       "      <th>extended</th>\n",
       "      <th>region</th>\n",
       "      <th>success</th>\n",
       "      <th>gname</th>\n",
       "      <th>Peru</th>\n",
       "      <th>Amazonas</th>\n",
       "      <th>Ancash</th>\n",
       "      <th>Apurimac</th>\n",
       "      <th>Arequipa</th>\n",
       "      <th>...</th>\n",
       "      <th>Unknown</th>\n",
       "      <th>Utilities</th>\n",
       "      <th>Chemical</th>\n",
       "      <th>Explosives</th>\n",
       "      <th>Firearms</th>\n",
       "      <th>Incendiary</th>\n",
       "      <th>Melee</th>\n",
       "      <th>Other</th>\n",
       "      <th>Sabotage Equipment</th>\n",
       "      <th>Unknown</th>\n",
       "    </tr>\n",
       "  </thead>\n",
       "  <tbody>\n",
       "    <tr>\n",
       "      <th>0</th>\n",
       "      <td>1973</td>\n",
       "      <td>0</td>\n",
       "      <td>3</td>\n",
       "      <td>1</td>\n",
       "      <td>Unknown</td>\n",
       "      <td>1</td>\n",
       "      <td>0</td>\n",
       "      <td>0</td>\n",
       "      <td>0</td>\n",
       "      <td>0</td>\n",
       "      <td>...</td>\n",
       "      <td>0</td>\n",
       "      <td>0</td>\n",
       "      <td>0</td>\n",
       "      <td>1</td>\n",
       "      <td>0</td>\n",
       "      <td>0</td>\n",
       "      <td>0</td>\n",
       "      <td>0</td>\n",
       "      <td>0</td>\n",
       "      <td>0</td>\n",
       "    </tr>\n",
       "    <tr>\n",
       "      <th>1</th>\n",
       "      <td>1973</td>\n",
       "      <td>0</td>\n",
       "      <td>3</td>\n",
       "      <td>1</td>\n",
       "      <td>Unknown</td>\n",
       "      <td>1</td>\n",
       "      <td>0</td>\n",
       "      <td>0</td>\n",
       "      <td>0</td>\n",
       "      <td>0</td>\n",
       "      <td>...</td>\n",
       "      <td>0</td>\n",
       "      <td>0</td>\n",
       "      <td>0</td>\n",
       "      <td>1</td>\n",
       "      <td>0</td>\n",
       "      <td>0</td>\n",
       "      <td>0</td>\n",
       "      <td>0</td>\n",
       "      <td>0</td>\n",
       "      <td>0</td>\n",
       "    </tr>\n",
       "    <tr>\n",
       "      <th>2</th>\n",
       "      <td>1973</td>\n",
       "      <td>0</td>\n",
       "      <td>3</td>\n",
       "      <td>1</td>\n",
       "      <td>Unknown</td>\n",
       "      <td>1</td>\n",
       "      <td>0</td>\n",
       "      <td>0</td>\n",
       "      <td>0</td>\n",
       "      <td>0</td>\n",
       "      <td>...</td>\n",
       "      <td>0</td>\n",
       "      <td>0</td>\n",
       "      <td>0</td>\n",
       "      <td>1</td>\n",
       "      <td>0</td>\n",
       "      <td>0</td>\n",
       "      <td>0</td>\n",
       "      <td>0</td>\n",
       "      <td>0</td>\n",
       "      <td>0</td>\n",
       "    </tr>\n",
       "    <tr>\n",
       "      <th>3</th>\n",
       "      <td>1974</td>\n",
       "      <td>0</td>\n",
       "      <td>3</td>\n",
       "      <td>1</td>\n",
       "      <td>Condor</td>\n",
       "      <td>1</td>\n",
       "      <td>0</td>\n",
       "      <td>0</td>\n",
       "      <td>0</td>\n",
       "      <td>1</td>\n",
       "      <td>...</td>\n",
       "      <td>0</td>\n",
       "      <td>0</td>\n",
       "      <td>0</td>\n",
       "      <td>1</td>\n",
       "      <td>0</td>\n",
       "      <td>0</td>\n",
       "      <td>0</td>\n",
       "      <td>0</td>\n",
       "      <td>0</td>\n",
       "      <td>0</td>\n",
       "    </tr>\n",
       "    <tr>\n",
       "      <th>4</th>\n",
       "      <td>1974</td>\n",
       "      <td>0</td>\n",
       "      <td>3</td>\n",
       "      <td>1</td>\n",
       "      <td>Revolutionary Vanguard</td>\n",
       "      <td>1</td>\n",
       "      <td>0</td>\n",
       "      <td>0</td>\n",
       "      <td>0</td>\n",
       "      <td>0</td>\n",
       "      <td>...</td>\n",
       "      <td>0</td>\n",
       "      <td>0</td>\n",
       "      <td>0</td>\n",
       "      <td>1</td>\n",
       "      <td>0</td>\n",
       "      <td>0</td>\n",
       "      <td>0</td>\n",
       "      <td>0</td>\n",
       "      <td>0</td>\n",
       "      <td>0</td>\n",
       "    </tr>\n",
       "  </tbody>\n",
       "</table>\n",
       "<p>5 rows × 68 columns</p>\n",
       "</div>"
      ],
      "text/plain": [
       "   iyear  extended  region  success                   gname  Peru  Amazonas  \\\n",
       "0   1973         0       3        1                 Unknown     1         0   \n",
       "1   1973         0       3        1                 Unknown     1         0   \n",
       "2   1973         0       3        1                 Unknown     1         0   \n",
       "3   1974         0       3        1                  Condor     1         0   \n",
       "4   1974         0       3        1  Revolutionary Vanguard     1         0   \n",
       "\n",
       "   Ancash  Apurimac  Arequipa  ...  Unknown  Utilities  Chemical  Explosives  \\\n",
       "0       0         0         0  ...        0          0         0           1   \n",
       "1       0         0         0  ...        0          0         0           1   \n",
       "2       0         0         0  ...        0          0         0           1   \n",
       "3       0         0         1  ...        0          0         0           1   \n",
       "4       0         0         0  ...        0          0         0           1   \n",
       "\n",
       "   Firearms  Incendiary  Melee  Other  Sabotage Equipment  Unknown  \n",
       "0         0           0      0      0                   0        0  \n",
       "1         0           0      0      0                   0        0  \n",
       "2         0           0      0      0                   0        0  \n",
       "3         0           0      0      0                   0        0  \n",
       "4         0           0      0      0                   0        0  \n",
       "\n",
       "[5 rows x 68 columns]"
      ]
     },
     "execution_count": 114,
     "metadata": {},
     "output_type": "execute_result"
    }
   ],
   "source": [
    "#Drops all text data leaving only numeric data\n",
    "df_dummies = df_dummies.drop(['country','imonth', 'iday', 'country_txt',\n",
    "                              'provstate', 'attacktype1_txt','targtype1_txt',\n",
    "                              'weaptype1_txt'],\n",
    "                             axis = 1)\n",
    "df_dummies.head()"
   ]
  },
  {
   "cell_type": "code",
   "execution_count": 115,
   "metadata": {
    "execution": {
     "iopub.execute_input": "2021-08-16T01:52:06.576191Z",
     "iopub.status.busy": "2021-08-16T01:52:06.575849Z",
     "iopub.status.idle": "2021-08-16T01:52:06.5962Z",
     "shell.execute_reply": "2021-08-16T01:52:06.594932Z",
     "shell.execute_reply.started": "2021-08-16T01:52:06.576158Z"
    }
   },
   "outputs": [
    {
     "data": {
      "text/html": [
       "<div>\n",
       "<style scoped>\n",
       "    .dataframe tbody tr th:only-of-type {\n",
       "        vertical-align: middle;\n",
       "    }\n",
       "\n",
       "    .dataframe tbody tr th {\n",
       "        vertical-align: top;\n",
       "    }\n",
       "\n",
       "    .dataframe thead th {\n",
       "        text-align: right;\n",
       "    }\n",
       "</style>\n",
       "<table border=\"1\" class=\"dataframe\">\n",
       "  <thead>\n",
       "    <tr style=\"text-align: right;\">\n",
       "      <th></th>\n",
       "      <th>iyear</th>\n",
       "      <th>imonth</th>\n",
       "      <th>iday</th>\n",
       "      <th>extended</th>\n",
       "      <th>country</th>\n",
       "      <th>provstate</th>\n",
       "      <th>region</th>\n",
       "      <th>country_txt</th>\n",
       "      <th>success</th>\n",
       "      <th>attacktype1_txt</th>\n",
       "      <th>targtype1_txt</th>\n",
       "      <th>gname</th>\n",
       "      <th>weaptype1_txt</th>\n",
       "    </tr>\n",
       "  </thead>\n",
       "  <tbody>\n",
       "    <tr>\n",
       "      <th>0</th>\n",
       "      <td>1973</td>\n",
       "      <td>7</td>\n",
       "      <td>4</td>\n",
       "      <td>0</td>\n",
       "      <td>159</td>\n",
       "      <td>Lima</td>\n",
       "      <td>3</td>\n",
       "      <td>Peru</td>\n",
       "      <td>1</td>\n",
       "      <td>Bombing/Explosion</td>\n",
       "      <td>Government (Diplomatic)</td>\n",
       "      <td>Unknown</td>\n",
       "      <td>Explosives</td>\n",
       "    </tr>\n",
       "    <tr>\n",
       "      <th>1</th>\n",
       "      <td>1973</td>\n",
       "      <td>7</td>\n",
       "      <td>22</td>\n",
       "      <td>0</td>\n",
       "      <td>159</td>\n",
       "      <td>Lima</td>\n",
       "      <td>3</td>\n",
       "      <td>Peru</td>\n",
       "      <td>1</td>\n",
       "      <td>Bombing/Explosion</td>\n",
       "      <td>Government (Diplomatic)</td>\n",
       "      <td>Unknown</td>\n",
       "      <td>Explosives</td>\n",
       "    </tr>\n",
       "    <tr>\n",
       "      <th>2</th>\n",
       "      <td>1973</td>\n",
       "      <td>7</td>\n",
       "      <td>22</td>\n",
       "      <td>0</td>\n",
       "      <td>159</td>\n",
       "      <td>Lima</td>\n",
       "      <td>3</td>\n",
       "      <td>Peru</td>\n",
       "      <td>1</td>\n",
       "      <td>Bombing/Explosion</td>\n",
       "      <td>Government (Diplomatic)</td>\n",
       "      <td>Unknown</td>\n",
       "      <td>Explosives</td>\n",
       "    </tr>\n",
       "    <tr>\n",
       "      <th>5</th>\n",
       "      <td>1974</td>\n",
       "      <td>12</td>\n",
       "      <td>7</td>\n",
       "      <td>0</td>\n",
       "      <td>159</td>\n",
       "      <td>Lima</td>\n",
       "      <td>3</td>\n",
       "      <td>Peru</td>\n",
       "      <td>1</td>\n",
       "      <td>Armed Assault</td>\n",
       "      <td>Business</td>\n",
       "      <td>Unknown</td>\n",
       "      <td>Firearms</td>\n",
       "    </tr>\n",
       "    <tr>\n",
       "      <th>8</th>\n",
       "      <td>1977</td>\n",
       "      <td>2</td>\n",
       "      <td>22</td>\n",
       "      <td>0</td>\n",
       "      <td>159</td>\n",
       "      <td>Lima</td>\n",
       "      <td>3</td>\n",
       "      <td>Peru</td>\n",
       "      <td>1</td>\n",
       "      <td>Bombing/Explosion</td>\n",
       "      <td>Military</td>\n",
       "      <td>Unknown</td>\n",
       "      <td>Explosives</td>\n",
       "    </tr>\n",
       "  </tbody>\n",
       "</table>\n",
       "</div>"
      ],
      "text/plain": [
       "   iyear  imonth  iday  extended  country provstate  region country_txt  \\\n",
       "0   1973       7     4         0      159      Lima       3        Peru   \n",
       "1   1973       7    22         0      159      Lima       3        Peru   \n",
       "2   1973       7    22         0      159      Lima       3        Peru   \n",
       "5   1974      12     7         0      159      Lima       3        Peru   \n",
       "8   1977       2    22         0      159      Lima       3        Peru   \n",
       "\n",
       "   success    attacktype1_txt            targtype1_txt    gname weaptype1_txt  \n",
       "0        1  Bombing/Explosion  Government (Diplomatic)  Unknown    Explosives  \n",
       "1        1  Bombing/Explosion  Government (Diplomatic)  Unknown    Explosives  \n",
       "2        1  Bombing/Explosion  Government (Diplomatic)  Unknown    Explosives  \n",
       "5        1      Armed Assault                 Business  Unknown      Firearms  \n",
       "8        1  Bombing/Explosion                 Military  Unknown    Explosives  "
      ]
     },
     "execution_count": 115,
     "metadata": {},
     "output_type": "execute_result"
    }
   ],
   "source": [
    "unknown = df[df['gname'] == 'Unknown']\n",
    "unknown.head()"
   ]
  },
  {
   "cell_type": "code",
   "execution_count": 116,
   "metadata": {
    "execution": {
     "iopub.execute_input": "2021-08-16T01:52:06.598788Z",
     "iopub.status.busy": "2021-08-16T01:52:06.598334Z",
     "iopub.status.idle": "2021-08-16T01:52:06.626059Z",
     "shell.execute_reply": "2021-08-16T01:52:06.625152Z",
     "shell.execute_reply.started": "2021-08-16T01:52:06.598745Z"
    },
    "scrolled": false
   },
   "outputs": [
    {
     "data": {
      "text/html": [
       "<div>\n",
       "<style scoped>\n",
       "    .dataframe tbody tr th:only-of-type {\n",
       "        vertical-align: middle;\n",
       "    }\n",
       "\n",
       "    .dataframe tbody tr th {\n",
       "        vertical-align: top;\n",
       "    }\n",
       "\n",
       "    .dataframe thead th {\n",
       "        text-align: right;\n",
       "    }\n",
       "</style>\n",
       "<table border=\"1\" class=\"dataframe\">\n",
       "  <thead>\n",
       "    <tr style=\"text-align: right;\">\n",
       "      <th></th>\n",
       "      <th>iyear</th>\n",
       "      <th>extended</th>\n",
       "      <th>region</th>\n",
       "      <th>success</th>\n",
       "      <th>gname</th>\n",
       "      <th>Peru</th>\n",
       "      <th>Amazonas</th>\n",
       "      <th>Ancash</th>\n",
       "      <th>Apurimac</th>\n",
       "      <th>Arequipa</th>\n",
       "      <th>...</th>\n",
       "      <th>Unknown</th>\n",
       "      <th>Utilities</th>\n",
       "      <th>Chemical</th>\n",
       "      <th>Explosives</th>\n",
       "      <th>Firearms</th>\n",
       "      <th>Incendiary</th>\n",
       "      <th>Melee</th>\n",
       "      <th>Other</th>\n",
       "      <th>Sabotage Equipment</th>\n",
       "      <th>Unknown</th>\n",
       "    </tr>\n",
       "  </thead>\n",
       "  <tbody>\n",
       "    <tr>\n",
       "      <th>7</th>\n",
       "      <td>1975</td>\n",
       "      <td>0</td>\n",
       "      <td>3</td>\n",
       "      <td>1</td>\n",
       "      <td>Movement of the Revolutionary Left (MIR) (Peru)</td>\n",
       "      <td>1</td>\n",
       "      <td>0</td>\n",
       "      <td>0</td>\n",
       "      <td>0</td>\n",
       "      <td>0</td>\n",
       "      <td>...</td>\n",
       "      <td>0</td>\n",
       "      <td>0</td>\n",
       "      <td>0</td>\n",
       "      <td>1</td>\n",
       "      <td>0</td>\n",
       "      <td>0</td>\n",
       "      <td>0</td>\n",
       "      <td>0</td>\n",
       "      <td>0</td>\n",
       "      <td>0</td>\n",
       "    </tr>\n",
       "    <tr>\n",
       "      <th>12</th>\n",
       "      <td>1978</td>\n",
       "      <td>0</td>\n",
       "      <td>3</td>\n",
       "      <td>1</td>\n",
       "      <td>Shining Path (SL)</td>\n",
       "      <td>1</td>\n",
       "      <td>0</td>\n",
       "      <td>0</td>\n",
       "      <td>0</td>\n",
       "      <td>0</td>\n",
       "      <td>...</td>\n",
       "      <td>0</td>\n",
       "      <td>1</td>\n",
       "      <td>0</td>\n",
       "      <td>1</td>\n",
       "      <td>0</td>\n",
       "      <td>0</td>\n",
       "      <td>0</td>\n",
       "      <td>0</td>\n",
       "      <td>0</td>\n",
       "      <td>0</td>\n",
       "    </tr>\n",
       "    <tr>\n",
       "      <th>18</th>\n",
       "      <td>1979</td>\n",
       "      <td>1</td>\n",
       "      <td>3</td>\n",
       "      <td>1</td>\n",
       "      <td>Shining Path (SL)</td>\n",
       "      <td>1</td>\n",
       "      <td>0</td>\n",
       "      <td>0</td>\n",
       "      <td>0</td>\n",
       "      <td>0</td>\n",
       "      <td>...</td>\n",
       "      <td>0</td>\n",
       "      <td>0</td>\n",
       "      <td>0</td>\n",
       "      <td>0</td>\n",
       "      <td>1</td>\n",
       "      <td>0</td>\n",
       "      <td>0</td>\n",
       "      <td>0</td>\n",
       "      <td>0</td>\n",
       "      <td>0</td>\n",
       "    </tr>\n",
       "    <tr>\n",
       "      <th>23</th>\n",
       "      <td>1980</td>\n",
       "      <td>0</td>\n",
       "      <td>3</td>\n",
       "      <td>0</td>\n",
       "      <td>Shining Path (SL)</td>\n",
       "      <td>1</td>\n",
       "      <td>0</td>\n",
       "      <td>0</td>\n",
       "      <td>0</td>\n",
       "      <td>0</td>\n",
       "      <td>...</td>\n",
       "      <td>0</td>\n",
       "      <td>0</td>\n",
       "      <td>0</td>\n",
       "      <td>1</td>\n",
       "      <td>0</td>\n",
       "      <td>0</td>\n",
       "      <td>0</td>\n",
       "      <td>0</td>\n",
       "      <td>0</td>\n",
       "      <td>0</td>\n",
       "    </tr>\n",
       "    <tr>\n",
       "      <th>24</th>\n",
       "      <td>1980</td>\n",
       "      <td>0</td>\n",
       "      <td>3</td>\n",
       "      <td>0</td>\n",
       "      <td>Shining Path (SL)</td>\n",
       "      <td>1</td>\n",
       "      <td>0</td>\n",
       "      <td>0</td>\n",
       "      <td>0</td>\n",
       "      <td>0</td>\n",
       "      <td>...</td>\n",
       "      <td>0</td>\n",
       "      <td>0</td>\n",
       "      <td>0</td>\n",
       "      <td>1</td>\n",
       "      <td>0</td>\n",
       "      <td>0</td>\n",
       "      <td>0</td>\n",
       "      <td>0</td>\n",
       "      <td>0</td>\n",
       "      <td>0</td>\n",
       "    </tr>\n",
       "  </tbody>\n",
       "</table>\n",
       "<p>5 rows × 68 columns</p>\n",
       "</div>"
      ],
      "text/plain": [
       "    iyear  extended  region  success  \\\n",
       "7    1975         0       3        1   \n",
       "12   1978         0       3        1   \n",
       "18   1979         1       3        1   \n",
       "23   1980         0       3        0   \n",
       "24   1980         0       3        0   \n",
       "\n",
       "                                              gname  Peru  Amazonas  Ancash  \\\n",
       "7   Movement of the Revolutionary Left (MIR) (Peru)     1         0       0   \n",
       "12                                Shining Path (SL)     1         0       0   \n",
       "18                                Shining Path (SL)     1         0       0   \n",
       "23                                Shining Path (SL)     1         0       0   \n",
       "24                                Shining Path (SL)     1         0       0   \n",
       "\n",
       "    Apurimac  Arequipa  ...  Unknown  Utilities  Chemical  Explosives  \\\n",
       "7          0         0  ...        0          0         0           1   \n",
       "12         0         0  ...        0          1         0           1   \n",
       "18         0         0  ...        0          0         0           0   \n",
       "23         0         0  ...        0          0         0           1   \n",
       "24         0         0  ...        0          0         0           1   \n",
       "\n",
       "    Firearms  Incendiary  Melee  Other  Sabotage Equipment  Unknown  \n",
       "7          0           0      0      0                   0        0  \n",
       "12         0           0      0      0                   0        0  \n",
       "18         1           0      0      0                   0        0  \n",
       "23         0           0      0      0                   0        0  \n",
       "24         0           0      0      0                   0        0  \n",
       "\n",
       "[5 rows x 68 columns]"
      ]
     },
     "execution_count": 116,
     "metadata": {},
     "output_type": "execute_result"
    }
   ],
   "source": [
    "df_dummies = df_dummies.loc[(df_dummies['gname'] != 'Unknown') & (df_dummies['gname'].isin(names))]\n",
    "df_dummies.head()"
   ]
  },
  {
   "cell_type": "markdown",
   "metadata": {},
   "source": [
    "# 5. Construcción de Modelo"
   ]
  },
  {
   "cell_type": "code",
   "execution_count": null,
   "metadata": {},
   "outputs": [],
   "source": []
  },
  {
   "cell_type": "code",
   "execution_count": 117,
   "metadata": {
    "execution": {
     "iopub.execute_input": "2021-08-16T01:52:06.627626Z",
     "iopub.status.busy": "2021-08-16T01:52:06.627335Z",
     "iopub.status.idle": "2021-08-16T01:52:06.63809Z",
     "shell.execute_reply": "2021-08-16T01:52:06.63709Z",
     "shell.execute_reply.started": "2021-08-16T01:52:06.627598Z"
    }
   },
   "outputs": [
    {
     "name": "stdout",
     "output_type": "stream",
     "text": [
      "(4116, 67)\n",
      "(1030, 67)\n",
      "(4116,)\n",
      "(1030,)\n"
     ]
    }
   ],
   "source": [
    "# Splitting up the data for model training\n",
    "x=df_dummies.loc[:,~df_dummies.columns.isin(['gname'])].values\n",
    "y=df_dummies.loc[:,'gname'].values\n",
    "\n",
    "from sklearn.model_selection import train_test_split\n",
    "x_train,x_test,y_train,y_test = train_test_split(x,y,test_size = 0.20, random_state = 0)\n",
    "\n",
    "print(x_train.shape)\n",
    "print(x_test.shape)\n",
    "print(y_train.shape)\n",
    "print(y_test.shape)"
   ]
  },
  {
   "cell_type": "code",
   "execution_count": 118,
   "metadata": {
    "execution": {
     "iopub.execute_input": "2021-08-16T01:52:06.639955Z",
     "iopub.status.busy": "2021-08-16T01:52:06.639627Z",
     "iopub.status.idle": "2021-08-16T01:52:06.648018Z",
     "shell.execute_reply": "2021-08-16T01:52:06.646793Z",
     "shell.execute_reply.started": "2021-08-16T01:52:06.639927Z"
    }
   },
   "outputs": [],
   "source": [
    "# Need to standardize the variables when using the KNeighbors algorithm and Neural Networks \n",
    "from sklearn.preprocessing import StandardScaler\n",
    "ss = StandardScaler()\n",
    "\n",
    "x_train_std = ss.fit_transform(x_train)\n",
    "x_test_std = ss.transform(x_test)"
   ]
  },
  {
   "cell_type": "markdown",
   "metadata": {},
   "source": [
    "# 6. Evaluación del Modelo"
   ]
  },
  {
   "cell_type": "code",
   "execution_count": 119,
   "metadata": {
    "execution": {
     "iopub.execute_input": "2021-08-16T01:52:06.64985Z",
     "iopub.status.busy": "2021-08-16T01:52:06.649566Z",
     "iopub.status.idle": "2021-08-16T01:52:06.662508Z",
     "shell.execute_reply": "2021-08-16T01:52:06.661282Z",
     "shell.execute_reply.started": "2021-08-16T01:52:06.649822Z"
    }
   },
   "outputs": [],
   "source": [
    "from sklearn.cluster import KMeans\n",
    "from sklearn.neighbors import KNeighborsClassifier\n",
    "from sklearn.model_selection import GridSearchCV\n",
    "from sklearn.metrics import plot_confusion_matrix\n",
    "\n",
    "import time\n",
    "import warnings\n",
    "warnings.filterwarnings('ignore')"
   ]
  },
  {
   "cell_type": "markdown",
   "metadata": {},
   "source": [
    "# KNeighbors Classifier"
   ]
  },
  {
   "cell_type": "code",
   "execution_count": 120,
   "metadata": {
    "execution": {
     "iopub.execute_input": "2021-08-16T01:52:06.664362Z",
     "iopub.status.busy": "2021-08-16T01:52:06.664021Z",
     "iopub.status.idle": "2021-08-16T01:52:06.674734Z",
     "shell.execute_reply": "2021-08-16T01:52:06.673992Z",
     "shell.execute_reply.started": "2021-08-16T01:52:06.664321Z"
    }
   },
   "outputs": [],
   "source": [
    "knn = KNeighborsClassifier()\n",
    "\n",
    "param_grid = {'n_neighbors':[5,10,15,25,30,50], 'weights': ['uniform','distance']}\n",
    "\n",
    "grid_knn = GridSearchCV(knn,param_grid,scoring='accuracy',cv = 10,refit = True)"
   ]
  },
  {
   "cell_type": "code",
   "execution_count": 121,
   "metadata": {
    "execution": {
     "iopub.execute_input": "2021-08-16T01:52:06.676765Z",
     "iopub.status.busy": "2021-08-16T01:52:06.676196Z",
     "iopub.status.idle": "2021-08-16T01:52:07.325157Z",
     "shell.execute_reply": "2021-08-16T01:52:07.324004Z",
     "shell.execute_reply.started": "2021-08-16T01:52:06.676721Z"
    }
   },
   "outputs": [
    {
     "name": "stdout",
     "output_type": "stream",
     "text": [
      "Best Score ==>  0.8986889660548508\n",
      "Tuned Paramerers ==>  {'n_neighbors': 50, 'weights': 'distance'}\n",
      "Accuracy on Train set ==>  0.9390184645286687\n",
      "Accuracy on Test set ==>  0.9067961165048544\n",
      "Runtime of the Grid Search for the KNeighbors Algorithm: 38.29574s\n"
     ]
    }
   ],
   "source": [
    "start_time = time.time()\n",
    "\n",
    "grid_knn.fit(x_train_std,y_train)\n",
    "print(\"Best Score ==> \", grid_knn.best_score_)\n",
    "print(\"Tuned Paramerers ==> \", grid_knn.best_params_)\n",
    "print(\"Accuracy on Train set ==> \", grid_knn.score(x_train_std,y_train))\n",
    "print(\"Accuracy on Test set ==> \", grid_knn.score(x_test_std,y_test))\n",
    "\n",
    "end_time = time.time()\n",
    "run_time = end_time - start_time\n",
    "print('Runtime of the Grid Search for the KNeighbors Algorithm: {:.5f}s'.format(run_time))"
   ]
  },
  {
   "cell_type": "code",
   "execution_count": 122,
   "metadata": {
    "execution": {
     "iopub.execute_input": "2021-08-16T01:52:07.327443Z",
     "iopub.status.busy": "2021-08-16T01:52:07.32678Z",
     "iopub.status.idle": "2021-08-16T01:52:07.349561Z",
     "shell.execute_reply": "2021-08-16T01:52:07.348396Z",
     "shell.execute_reply.started": "2021-08-16T01:52:07.327393Z"
    }
   },
   "outputs": [
    {
     "name": "stdout",
     "output_type": "stream",
     "text": [
      "Accuracy on Train set ==>  0.9390184645286687\n",
      "Accuracy on Test set ==>  0.9067961165048544\n",
      "Runtime of the KNeighbors Classifier Algorithm: 3.93519s\n"
     ]
    }
   ],
   "source": [
    "start_time = time.time()\n",
    "\n",
    "knn = KNeighborsClassifier(**grid_knn.best_params_)\n",
    "knn.fit(x_train_std, y_train)\n",
    "\n",
    "print(\"Accuracy on Train set ==> \", knn.score(x_train_std,y_train))\n",
    "print(\"Accuracy on Test set ==> \", knn.score(x_test_std,y_test))\n",
    "\n",
    "end_time = time.time()\n",
    "kn_run_time = end_time - start_time\n",
    "\n",
    "print('Runtime of the KNeighbors Classifier Algorithm: {:.5f}s'.format(kn_run_time))"
   ]
  },
  {
   "cell_type": "code",
   "execution_count": 123,
   "metadata": {
    "execution": {
     "iopub.execute_input": "2021-08-16T01:52:07.351987Z",
     "iopub.status.busy": "2021-08-16T01:52:07.351308Z",
     "iopub.status.idle": "2021-08-16T01:52:09.548655Z",
     "shell.execute_reply": "2021-08-16T01:52:09.547606Z",
     "shell.execute_reply.started": "2021-08-16T01:52:07.351937Z"
    }
   },
   "outputs": [
    {
     "data": {
      "image/png": "[encoded data removed]",
      "text/plain": [
       "<Figure size 864x864 with 2 Axes>"
      ]
     },
     "metadata": {},
     "output_type": "display_data"
    }
   ],
   "source": [
    "fig, ax = plt.subplots(figsize = (12,12))\n",
    "\n",
    "matrix = plot_confusion_matrix(knn, x_test_std, y_test, ax=ax, xticks_rotation='vertical',\n",
    "                               cmap='PuRd', normalize='true', values_format='.2f')\n",
    "plt.title('KNeighbors Classifier Confusion Matrix')\n",
    "plt.show()"
   ]
  },
  {
   "cell_type": "markdown",
   "metadata": {},
   "source": [
    "# Naive Bayes"
   ]
  },
  {
   "cell_type": "code",
   "execution_count": 124,
   "metadata": {
    "execution": {
     "iopub.execute_input": "2021-08-16T01:52:15.58558Z",
     "iopub.status.busy": "2021-08-16T01:52:15.585165Z",
     "iopub.status.idle": "2021-08-16T01:52:15.589787Z",
     "shell.execute_reply": "2021-08-16T01:52:15.588862Z",
     "shell.execute_reply.started": "2021-08-16T01:52:15.585548Z"
    }
   },
   "outputs": [],
   "source": [
    "from sklearn.naive_bayes import GaussianNB"
   ]
  },
  {
   "cell_type": "code",
   "execution_count": 125,
   "metadata": {
    "execution": {
     "iopub.execute_input": "2021-08-16T01:52:15.59164Z",
     "iopub.status.busy": "2021-08-16T01:52:15.59135Z",
     "iopub.status.idle": "2021-08-16T01:52:15.615662Z",
     "shell.execute_reply": "2021-08-16T01:52:15.614127Z",
     "shell.execute_reply.started": "2021-08-16T01:52:15.591613Z"
    }
   },
   "outputs": [
    {
     "name": "stdout",
     "output_type": "stream",
     "text": [
      "Accuracy on Train set ==>  0.2524295432458698\n",
      "Accuracy on Test set ==>  0.23300970873786409\n",
      "Runtime of the Naive Bayes Algorithm: 0.10510s\n"
     ]
    }
   ],
   "source": [
    "# Don't need to standardize variables here\n",
    "start_time = time.time()\n",
    "\n",
    "nb = GaussianNB()\n",
    "nb.fit(x_train, y_train)\n",
    "\n",
    "print(\"Accuracy on Train set ==> \", nb.score(x_train,y_train))\n",
    "print(\"Accuracy on Test set ==> \", nb.score(x_test,y_test))\n",
    "\n",
    "end_time = time.time()\n",
    "nb_run_time = end_time - start_time\n",
    "\n",
    "print('Runtime of the Naive Bayes Algorithm: {:.5f}s'.format(nb_run_time))"
   ]
  },
  {
   "cell_type": "code",
   "execution_count": 126,
   "metadata": {
    "execution": {
     "iopub.execute_input": "2021-08-16T01:52:15.617438Z",
     "iopub.status.busy": "2021-08-16T01:52:15.616945Z",
     "iopub.status.idle": "2021-08-16T01:52:17.8676Z",
     "shell.execute_reply": "2021-08-16T01:52:17.866755Z",
     "shell.execute_reply.started": "2021-08-16T01:52:15.617391Z"
    }
   },
   "outputs": [
    {
     "data": {
      "image/png": "[encoded data removed]",
      "text/plain": [
       "<Figure size 864x864 with 2 Axes>"
      ]
     },
     "metadata": {},
     "output_type": "display_data"
    }
   ],
   "source": [
    "fig, ax = plt.subplots(figsize = (12,12))\n",
    "\n",
    "matrix = plot_confusion_matrix(nb, x_test, y_test, ax=ax, xticks_rotation='vertical', \n",
    "                               cmap='PuRd', normalize='true', values_format='.2f')\n",
    "plt.title('Naive Bayes Confusion Matrix')\n",
    "plt.show()"
   ]
  },
  {
   "cell_type": "markdown",
   "metadata": {},
   "source": [
    "# Neural Network"
   ]
  },
  {
   "cell_type": "code",
   "execution_count": 127,
   "metadata": {
    "execution": {
     "iopub.execute_input": "2021-08-16T01:52:17.869253Z",
     "iopub.status.busy": "2021-08-16T01:52:17.868761Z",
     "iopub.status.idle": "2021-08-16T01:52:17.873127Z",
     "shell.execute_reply": "2021-08-16T01:52:17.871987Z",
     "shell.execute_reply.started": "2021-08-16T01:52:17.869207Z"
    }
   },
   "outputs": [],
   "source": [
    "from sklearn.neural_network import MLPClassifier"
   ]
  },
  {
   "cell_type": "code",
   "execution_count": 128,
   "metadata": {
    "execution": {
     "iopub.execute_input": "2021-08-16T01:52:17.874757Z",
     "iopub.status.busy": "2021-08-16T01:52:17.874444Z",
     "iopub.status.idle": "2021-08-16T01:52:19.351637Z",
     "shell.execute_reply": "2021-08-16T01:52:19.350415Z",
     "shell.execute_reply.started": "2021-08-16T01:52:17.874731Z"
    }
   },
   "outputs": [
    {
     "name": "stdout",
     "output_type": "stream",
     "text": [
      "Accuracy on Train set ==>  0.9329446064139941\n",
      "Accuracy on Test set ==>  0.9067961165048544\n",
      "Runtime of the Neural Network: 12.66970s\n"
     ]
    }
   ],
   "source": [
    "start_time = time.time()\n",
    "\n",
    "mlp = MLPClassifier(hidden_layer_sizes=(40,40,40), max_iter=300, random_state=42)\n",
    "mlp.fit(x_train_std, y_train)\n",
    "\n",
    "print(\"Accuracy on Train set ==> \", mlp.score(x_train_std,y_train))\n",
    "print(\"Accuracy on Test set ==> \", mlp.score(x_test_std,y_test))\n",
    "\n",
    "end_time = time.time()\n",
    "mlp_run_time = end_time - start_time\n",
    "\n",
    "print('Runtime of the Neural Network: {:.5f}s'.format(mlp_run_time))"
   ]
  },
  {
   "cell_type": "code",
   "execution_count": 129,
   "metadata": {
    "execution": {
     "iopub.execute_input": "2021-08-16T01:52:19.354046Z",
     "iopub.status.busy": "2021-08-16T01:52:19.353323Z",
     "iopub.status.idle": "2021-08-16T01:52:21.361235Z",
     "shell.execute_reply": "2021-08-16T01:52:21.360522Z",
     "shell.execute_reply.started": "2021-08-16T01:52:19.353991Z"
    }
   },
   "outputs": [
    {
     "data": {
      "image/png": "[encoded data removed]",
      "text/plain": [
       "<Figure size 864x864 with 2 Axes>"
      ]
     },
     "metadata": {},
     "output_type": "display_data"
    }
   ],
   "source": [
    "fig, ax = plt.subplots(figsize = (12,12))\n",
    "\n",
    "matrix = plot_confusion_matrix(mlp, x_test_std, y_test, ax=ax, xticks_rotation='vertical',\n",
    "                               cmap='PuRd', normalize='true', values_format='.2f')\n",
    "plt.title('Neural Network Confusion Matrix')\n",
    "plt.show()"
   ]
  },
  {
   "cell_type": "markdown",
   "metadata": {},
   "source": [
    "# Summary"
   ]
  },
  {
   "cell_type": "code",
   "execution_count": 132,
   "metadata": {
    "execution": {
     "iopub.execute_input": "2021-08-16T01:52:21.362604Z",
     "iopub.status.busy": "2021-08-16T01:52:21.362215Z",
     "iopub.status.idle": "2021-08-16T01:52:21.384273Z",
     "shell.execute_reply": "2021-08-16T01:52:21.382928Z",
     "shell.execute_reply.started": "2021-08-16T01:52:21.362575Z"
    },
    "scrolled": true
   },
   "outputs": [
    {
     "name": "stdout",
     "output_type": "stream",
     "text": [
      "Accuracy on Test set using KNeighbors: 90.6796%\n",
      "Runtime of the KNeighbors Classifier Algorithm: 3.9352s\n",
      "\n",
      "Accuracy on Test set using Naive Bayes: 23.3010%\n",
      "Runtime of the Naive Bayes Algorithm: 0.1051s\n",
      "\n",
      "Accuracy on Test set using Neural Network: 90.6796%\n",
      "Runtime of the Neural Network: 12.6697s\n"
     ]
    }
   ],
   "source": [
    "print(\"Accuracy on Test set using KNeighbors: {:.4%}\".format(knn.score(x_test_std,y_test)))\n",
    "print('Runtime of the KNeighbors Classifier Algorithm: {:.4f}s'.format(kn_run_time))\n",
    "\n",
    "\n",
    "print()\n",
    "\n",
    "print(\"Accuracy on Test set using Naive Bayes: {:.4%}\".format(nb.score(x_test,y_test)))\n",
    "print('Runtime of the Naive Bayes Algorithm: {:.4f}s'.format(nb_run_time)) \n",
    "\n",
    "print()\n",
    "\n",
    "print(\"Accuracy on Test set using Neural Network: {:.4%}\".format(mlp.score(x_test_std,y_test)))\n",
    "print('Runtime of the Neural Network: {:.4f}s'.format(mlp_run_time))"
   ]
  },
  {
   "cell_type": "code",
   "execution_count": null,
   "metadata": {},
   "outputs": [],
   "source": [
    "\n",
    "\n",
    "    "
   ]
  }
 ],
 "metadata": {
  "kernelspec": {
   "display_name": "Python 3",
   "language": "python",
   "name": "python3"
  },
  "language_info": {
   "codemirror_mode": {
    "name": "ipython",
    "version": 3
   },
   "file_extension": ".py",
   "mimetype": "text/x-python",
   "name": "python",
   "nbconvert_exporter": "python",
   "pygments_lexer": "ipython3",
   "version": "3.6.9"
  }
 },
 "nbformat": 4,
 "nbformat_minor": 4
}
